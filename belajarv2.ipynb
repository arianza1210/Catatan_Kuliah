{
  "cells": [
    {
      "cell_type": "markdown",
      "metadata": {
        "id": "view-in-github",
        "colab_type": "text"
      },
      "source": [
        "<a href=\"https://colab.research.google.com/github/arianza1210/Catatan_Kuliah/blob/main/belajarv2.ipynb\" target=\"_parent\"><img src=\"https://colab.research.google.com/assets/colab-badge.svg\" alt=\"Open In Colab\"/></a>"
      ]
    },
    {
      "cell_type": "code",
      "execution_count": null,
      "id": "44005551",
      "metadata": {
        "id": "44005551",
        "outputId": "2c141762-143c-4947-fcea-300625571421"
      },
      "outputs": [
        {
          "name": "stdout",
          "output_type": "stream",
          "text": [
            "berapa kali masukkan : 4\n",
            "angka ke 1 : 4\n",
            "[4]\n",
            "angka ke 2 : 2\n",
            "[4, 2]\n",
            "angka ke 3 : 1\n",
            "[4, 2, 1]\n",
            "angka ke 4 : 3\n",
            "[4, 2, 1, 3]\n",
            "urutan angka kecil ke besar :  [1, 2, 3, 4]\n",
            "urutan angka besar ke kecil :  [4, 3, 2, 1]\n",
            "angka yang ingin dicari :4\n",
            "ada\n"
          ]
        }
      ],
      "source": [
        "#sort\n",
        "def search(arr,key):\n",
        "    for i in range(len(arr)):\n",
        "        if arr[i]==key:\n",
        "            return True\n",
        "        return False\n",
        "\n",
        "x=int(input('berapa kali masukkan : '))\n",
        "arr=[]\n",
        "for i in range (x):\n",
        "    arr.append(int(input('angka ke '+str(i+1)+' : ')))\n",
        "    print (arr)\n",
        "arr.sort()\n",
        "print('urutan angka kecil ke besar : ',arr)\n",
        "arr.reverse()\n",
        "print('urutan angka besar ke kecil : ',arr)\n",
        "key=int(input('angka yang ingin dicari :'))\n",
        "if search(arr,key):\n",
        "    print('ada')\n",
        "else:\n",
        "    print('tidak ada')"
      ]
    },
    {
      "cell_type": "code",
      "execution_count": null,
      "id": "dfd63916",
      "metadata": {
        "id": "dfd63916",
        "outputId": "f89eb8f8-5292-48b0-f24a-fa4029daa7d8"
      },
      "outputs": [
        {
          "name": "stdout",
          "output_type": "stream",
          "text": [
            "berapa kali masukkan :4\n",
            "angka ke 1 : 4\n",
            "[4]\n",
            "angka ke 2 : 4\n",
            "[4, 4]\n",
            "angka ke 3 : 2\n",
            "[4, 4, 2]\n",
            "angka ke 4 : 1\n",
            "[4, 4, 2, 1]\n",
            "urutan angka kecil ke besar :\n",
            "[1, 2, 4, 4]\n",
            "urutan angka besar ke kecil :\n",
            "[4, 4, 2, 1]\n",
            "angka yang ingin dicari :4\n",
            "4 was found at index [0, 1].\n",
            "banyaknya angka 4 berjumlah = 2\n"
          ]
        }
      ],
      "source": [
        "#bubblesort\n",
        "def search(arr,key):\n",
        "    s=[]\n",
        "    for i in range (len(arr)):\n",
        "        if arr[i]==key:\n",
        "            s.append(i)\n",
        "    return s\n",
        "    \n",
        "def minmax(arr):\n",
        "    for i in range (len(arr)):\n",
        "        for j in range(len(arr)-1):\n",
        "            if arr[j]>arr[j+1]:\n",
        "                arr[j],arr[j+1]=arr[j+1],arr[j]\n",
        "    return arr\n",
        "def maxmin(arr):\n",
        "    for i in range(len(arr)):\n",
        "        for j in range(len(arr)-1):\n",
        "            if arr[j]<arr[j+1]:\n",
        "                arr[j],arr[j+1]=arr[j+1],arr[j]\n",
        "    return arr\n",
        "x=int(input('berapa kali masukkan :'))\n",
        "arr=[]\n",
        "for i in range (x):\n",
        "    arr.append(int(input('angka ke '+str(i+1)+' : ')))\n",
        "    print (arr)\n",
        "print('urutan angka kecil ke besar :')\n",
        "minmax(arr)\n",
        "print (arr)\n",
        "print('urutan angka besar ke kecil :')\n",
        "maxmin(arr)\n",
        "print(arr)\n",
        "key=int(input('angka yang ingin dicari :'))\n",
        "index=search(arr,key)\n",
        "if index:\n",
        "    for i in index :\n",
        "        if arr[i]==key:\n",
        "            print('{} was found at index {}.'.format(key,index))\n",
        "            break\n",
        "    \n",
        "else:\n",
        "    print('{} was not found.'.format(key,index))\n",
        "print('banyaknya angka {} berjumlah ='.format(key),len(index))"
      ]
    },
    {
      "cell_type": "code",
      "execution_count": null,
      "id": "bd35183e",
      "metadata": {
        "id": "bd35183e",
        "outputId": "7d1cc3b3-a21e-4392-d874-97011e8a48c9"
      },
      "outputs": [
        {
          "name": "stdout",
          "output_type": "stream",
          "text": [
            "berapa kali masukkan :4\n",
            "angka ke 1 : 1\n",
            "[1]\n",
            "angka ke 2 : 1\n",
            "[1, 1]\n",
            "angka ke 3 : 2\n",
            "[1, 1, 2]\n",
            "angka ke 4 : 1\n",
            "[1, 1, 2, 1]\n",
            "urutan angka kecil ke besar :\n",
            "[1, 1, 1, 2]\n",
            "urutan angka besar ke kecil :\n",
            "[2, 1, 1, 1]\n",
            "masukkan angka yang ingin dicari : 1\n",
            "1 was found at index [1, 2, 3]\n",
            "banyaknya angka 1 adalah : 3\n"
          ]
        }
      ],
      "source": [
        "#mengingat \n",
        "def search(arr,key):\n",
        "    s=[]\n",
        "    for i in range (len(arr)):\n",
        "        if arr[i]==key:\n",
        "            s.append(i)\n",
        "    return s\n",
        "        \n",
        "def minmax(arr):\n",
        "    for i in range (len(arr)):\n",
        "        for j in range(len(arr)-1):\n",
        "            if arr[j]>arr[j+1]:\n",
        "                arr[j],arr[j+1]=arr[j+1],arr[j]\n",
        "    return arr\n",
        "def maxmin(arr):\n",
        "    for i in range(len(arr)):\n",
        "        for j in range(len(arr)-1):\n",
        "            if arr[j]<arr[j+1]:\n",
        "                arr[j],arr[j+1]=arr[j+1],arr[j]\n",
        "    return arr\n",
        "x=int(input('berapa kali masukkan :'))\n",
        "arr=[]\n",
        "for i in range (x):\n",
        "    arr.append(int(input('angka ke '+str(i+1)+' : ')))\n",
        "    print (arr)\n",
        "print('urutan angka kecil ke besar :')\n",
        "minmax(arr)\n",
        "print (arr)\n",
        "print('urutan angka besar ke kecil :')\n",
        "maxmin(arr)\n",
        "print(arr)\n",
        "key=int(input('masukkan angka yang ingin dicari : '))\n",
        "index=search(arr,key)\n",
        "if index:\n",
        "    for i in index:\n",
        "        if arr[i]==key:\n",
        "            print('{} was found at index {}'.format(key,index))\n",
        "            break\n",
        "else:\n",
        "    print('{} was not found'.format(key,index))\n",
        "print('banyaknya angka {} adalah :'.format(key),len(index))"
      ]
    },
    {
      "cell_type": "code",
      "execution_count": null,
      "id": "2635cb9a",
      "metadata": {
        "id": "2635cb9a",
        "outputId": "648a9c65-47fa-4486-f9c3-99b75b7e3ad9"
      },
      "outputs": [
        {
          "name": "stdout",
          "output_type": "stream",
          "text": [
            "masukkan huruf :pandi\n",
            "p 1\n",
            "a 1\n",
            "n 1\n",
            "d 1\n",
            "i 1\n"
          ]
        }
      ],
      "source": [
        "#count string\n",
        "n=input('masukkan huruf :').lower()\n",
        "arr={}\n",
        "for i in n:\n",
        "    if not i.isalpha():\n",
        "        continue\n",
        "    elif i in arr:\n",
        "        arr[i]+=1\n",
        "    else:\n",
        "        arr[i]=1\n",
        "for i,j in (arr.items()):\n",
        "    print(i,j)\n"
      ]
    },
    {
      "cell_type": "code",
      "execution_count": null,
      "id": "691f500d",
      "metadata": {
        "id": "691f500d",
        "outputId": "acf7a985-3d56-49a5-f701-e8c7042e1465"
      },
      "outputs": [
        {
          "name": "stdout",
          "output_type": "stream",
          "text": [
            "masukkan angka 2\n",
            "2 genap\n"
          ]
        }
      ],
      "source": [
        "#input ganjil genap\n",
        "n=int(input('masukkan angka '))\n",
        "if n%2==0:\n",
        "    print(f'{n} genap')\n",
        "else:\n",
        "    print(f'{n} ganjil')\n"
      ]
    },
    {
      "cell_type": "code",
      "execution_count": null,
      "id": "379310ba",
      "metadata": {
        "id": "379310ba",
        "outputId": "7c36ceaa-1e5d-400a-a80d-57e19737fcb1"
      },
      "outputs": [
        {
          "name": "stdout",
          "output_type": "stream",
          "text": [
            "berapa kali masukkan :3\n",
            "0 genap\n",
            "1 ganjil\n",
            "2 genap\n",
            "3 ganjil\n"
          ]
        }
      ],
      "source": [
        "n=int(input('berapa kali masukkan :'))\n",
        "r=[]\n",
        "for i in range(n+1):\n",
        "    if i%2==0:\n",
        "        print(f'{i} genap')\n",
        "    else:\n",
        "        print(f'{i} ganjil')"
      ]
    },
    {
      "cell_type": "code",
      "execution_count": null,
      "id": "85be4dfd",
      "metadata": {
        "id": "85be4dfd",
        "outputId": "50a92f6e-2a35-4c4a-cfed-6dfc1dfe91e3"
      },
      "outputs": [
        {
          "name": "stdout",
          "output_type": "stream",
          "text": [
            "masukkan angka :13\n",
            "13 adalah bilangan prima\n"
          ]
        }
      ],
      "source": [
        "#menentukan bilangan prima\n",
        "n=int(input('masukkan angka :'))\n",
        "if (n==2 or n==3 or n==5 or n==7)or(n%2!=0 and n%3!=0 and n%5!=0 and n%7!=0):\n",
        "    print(f'{n} adalah bilangan prima')\n",
        "else :\n",
        "    print(f'{n} bukan bilangan prima')"
      ]
    },
    {
      "cell_type": "code",
      "execution_count": null,
      "id": "38cdc7fe",
      "metadata": {
        "id": "38cdc7fe",
        "outputId": "4a72f345-da9d-4cfb-fa89-0cc811f9af6f"
      },
      "outputs": [
        {
          "name": "stdout",
          "output_type": "stream",
          "text": [
            "berpa batas angka :20\n",
            "[1, 2, 3, 5, 7, 11, 13, 17, 19]\n"
          ]
        }
      ],
      "source": [
        "#list bilangan prima\n",
        "j=int(input('berpa batas angka :'))\n",
        "\n",
        "list_angka =[i for i in range(j+1)]\n",
        "arr=[]\n",
        "for n in list_angka:\n",
        "    if (n==2 or n==3 or n==5 or n==7)or(n%2!=0 and n%3!=0 and n%5!=0 and n%7!=0):\n",
        "        arr.append(n)\n",
        "print(arr)"
      ]
    },
    {
      "cell_type": "code",
      "execution_count": null,
      "id": "09cf3eb4",
      "metadata": {
        "id": "09cf3eb4",
        "outputId": "9564265c-21b8-4845-b514-cebc78446038"
      },
      "outputs": [
        {
          "name": "stdout",
          "output_type": "stream",
          "text": [
            "masukkan huruf :pandi\n",
            "p 1\n",
            "a 1\n",
            "n 1\n",
            "d 1\n",
            "i 1\n"
          ]
        }
      ],
      "source": [
        "#count string\n",
        "n=input('masukkan huruf :').lower()\n",
        "arr={}\n",
        "for i in n:\n",
        "    if not i.isalpha():\n",
        "        continue\n",
        "    elif i in arr:\n",
        "        arr[i]+=1\n",
        "    else:\n",
        "        arr[i]=1\n",
        "for i,j in(arr.items()):\n",
        "    print(i,j)"
      ]
    },
    {
      "cell_type": "code",
      "execution_count": null,
      "id": "ced94b9f",
      "metadata": {
        "id": "ced94b9f",
        "outputId": "3e6f73c6-64af-436b-b6fb-bdb17c2cf6c9"
      },
      "outputs": [
        {
          "name": "stdout",
          "output_type": "stream",
          "text": [
            "masukkan batas :3\n",
            "angka ke 1 = 3\n",
            "[3]\n",
            "angka ke 2 = 2\n",
            "[3, 2]\n",
            "angka ke 3 = 2\n",
            "[3, 2, 2]\n",
            "angka kecil ke besar = [2, 2, 3]\n",
            "angka besar ke kecil= [3, 2, 2]\n",
            "angka yang ingin dicari2\n",
            "2 was found at index [1, 2]\n",
            "banyaknya angka 2 = 2\n"
          ]
        }
      ],
      "source": [
        "def search(arr,key):\n",
        "    s=[]\n",
        "    for i in range (len(arr)):\n",
        "        if arr[i]==key:\n",
        "            s.append(i)\n",
        "    return s\n",
        "    \n",
        "n=int(input('masukkan batas :'))\n",
        "arr=[]\n",
        "for i in range (n):\n",
        "    arr.append(int(input(f'angka ke {i+1} = ')))\n",
        "    print (arr)\n",
        "arr.sort()\n",
        "print(f'angka kecil ke besar = {arr}')\n",
        "arr.reverse()\n",
        "print(f'angka besar ke kecil= {arr}')\n",
        "key=int(input('angka yang ingin dicari'))\n",
        "index=search(arr,key)\n",
        "if index:\n",
        "    for i in index:\n",
        "        if arr[i]==key:\n",
        "            print('{} was found at index {}'.format(key,index))\n",
        "            break\n",
        "else:\n",
        "    print(f'{key} was not found')\n",
        "print('banyaknya angka {} ='.format(key),len(index))"
      ]
    },
    {
      "cell_type": "code",
      "execution_count": null,
      "id": "223caf7f",
      "metadata": {
        "id": "223caf7f",
        "outputId": "79aeaa77-4ead-4034-da47-b04117fedd6f"
      },
      "outputs": [
        {
          "name": "stdout",
          "output_type": "stream",
          "text": [
            "Masukan angka awal: 2\n",
            "Masukan angka akhir: 5\n",
            "[2, 3, 5]\n"
          ]
        }
      ],
      "source": [
        "angka_awal = int(input('Masukan angka awal: '))\n",
        "angka_akhir = int(input('Masukan angka akhir: '))\n",
        " \n",
        "list_angka = [i for i in range(angka_awal, angka_akhir +1 )]\n",
        " \n",
        "bilangan_prima = []\n",
        "for i in list_angka:\n",
        "    if (i==2 or i==3 or i==5 or i==7) or (i%2 != 0 and i%3 != 0 and i%5 != 0 and i%7 != 0):\n",
        "        bilangan_prima.append(i)\n",
        " \n",
        "print(bilangan_prima)"
      ]
    },
    {
      "cell_type": "code",
      "execution_count": null,
      "id": "4a417aba",
      "metadata": {
        "id": "4a417aba",
        "outputId": "da0383e2-be7e-4f65-9ca5-803eb740f482"
      },
      "outputs": [
        {
          "name": "stdout",
          "output_type": "stream",
          "text": [
            "masukkan angka awal : 2\n",
            "masukkan angka akhir : 5\n",
            "[2, 3, 4, 5]\n"
          ]
        }
      ],
      "source": [
        "#input 2 bilangan \n",
        "angka_awal=int(input('masukkan angka awal : '))\n",
        "angka_akhir=int(input('masukkan angka akhir : '))\n",
        "list_angka=[i for i in range(angka_awal,angka_akhir+1)]\n",
        "print(list_angka)"
      ]
    },
    {
      "cell_type": "code",
      "execution_count": null,
      "id": "ba08d42a",
      "metadata": {
        "id": "ba08d42a",
        "outputId": "b9b135c5-f3de-4ce4-e8e7-01f02fb4d42d"
      },
      "outputs": [
        {
          "name": "stdout",
          "output_type": "stream",
          "text": [
            "masukkan angka : 20\n",
            "20 adalah bilangan genap\n"
          ]
        }
      ],
      "source": [
        "#materi menentukan ulang ganjil genap\n",
        "n=int(input('masukkan angka : '))\n",
        "if n%2==0:\n",
        "    print (f'{n} adalah bilangan genap')\n",
        "else :\n",
        "    print (f'{n} adalah bilangan ganjil')\n",
        "#complete"
      ]
    },
    {
      "cell_type": "code",
      "execution_count": null,
      "id": "91c5aef8",
      "metadata": {
        "id": "91c5aef8",
        "outputId": "dc5e3aee-60c1-48a5-a49b-6c6e8e011f8f"
      },
      "outputs": [
        {
          "name": "stdout",
          "output_type": "stream",
          "text": [
            "masukkan batas angka : 10\n",
            "masukkan pilihan 1) genap 2) ganjil :1\n",
            "list bilangan genap [0, 2, 4, 6, 8, 10]\n"
          ]
        }
      ],
      "source": [
        "#materi list bilangan ganjil genap \n",
        "n=int(input('masukkan batas angka : '))\n",
        "arr=[]\n",
        "def genap (n):\n",
        "    for i in range (n+1):\n",
        "        if i%2==0:\n",
        "            arr.append(i)\n",
        "    return arr\n",
        "    \n",
        "def ganjil (n):\n",
        "    for i in range (n+1):\n",
        "        if i%2!=0:\n",
        "            arr.append(i)\n",
        "    return arr\n",
        "pil=int(input('masukkan pilihan 1) genap 2) ganjil :'))\n",
        "if pil==1:\n",
        "    genap(n)\n",
        "    print(f'list bilangan genap {arr}')\n",
        "else :\n",
        "    ganjil(n)\n",
        "    print(f'list bilangan ganjil {arr}')\n",
        "#complete"
      ]
    },
    {
      "cell_type": "code",
      "execution_count": null,
      "id": "9043d901",
      "metadata": {
        "id": "9043d901",
        "outputId": "ee4a48f6-9633-433b-c1c2-97bd730de219"
      },
      "outputs": [
        {
          "name": "stdout",
          "output_type": "stream",
          "text": [
            "masukkan angka 1 : 2\n",
            "masukkan angka 2 : 4\n",
            "2 + 4 =  6\n"
          ]
        }
      ],
      "source": [
        "# penjumlahan n+n\n",
        "num1=int(input('masukkan angka 1 : '))\n",
        "num2=int(input('masukkan angka 2 : '))\n",
        "print(f'{num1} + {num2} = ',num1+num2)"
      ]
    },
    {
      "cell_type": "code",
      "execution_count": null,
      "id": "50b22b15",
      "metadata": {
        "id": "50b22b15",
        "outputId": "b7e46e37-0ae9-465a-ff6c-08b077ad670a"
      },
      "outputs": [
        {
          "name": "stdout",
          "output_type": "stream",
          "text": [
            "berpa kali masukkan : 4\n",
            "masukkan angka ke 1 : 4\n",
            "[4]\n",
            "masukkan angka ke 2 : 3\n",
            "[4, 3]\n",
            "masukkan angka ke 3 : 2\n",
            "[4, 3, 2]\n",
            "masukkan angka ke 4 : 4\n",
            "[4, 3, 2, 4]\n",
            "list angka kecil ke besar : [2, 3, 4, 4]\n",
            "list angka besar ke kecil : [4, 4, 3, 2] \n",
            "angka yang ingin dicari : 4\n",
            "4 was found at index [0, 1]\n",
            "4 banyaknya adalah 2\n"
          ]
        }
      ],
      "source": [
        "#materi sort \n",
        "def search(arr,key):\n",
        "    s=[]\n",
        "    for i in range(len(arr)):\n",
        "        if arr[i]==key:\n",
        "            s.append(i)\n",
        "    return s\n",
        "\n",
        "n=int(input('berpa kali masukkan : '))\n",
        "arr=[]\n",
        "for i in range (n):\n",
        "    arr.append(int(input(f'masukkan angka ke {i+1} : ')))\n",
        "    print (arr)\n",
        "arr.sort()\n",
        "print(f'list angka kecil ke besar : {arr}')\n",
        "arr.reverse()\n",
        "print(f'list angka besar ke kecil : {arr} ')\n",
        "key=int(input('angka yang ingin dicari : '))\n",
        "index=search(arr,key)\n",
        "if index:\n",
        "    for i in index:\n",
        "        if arr[i]==key:\n",
        "            print('{} was found at index {}'.format(key,index))\n",
        "            break\n",
        "else:\n",
        "    print('{} was not found'.format(key,index))\n",
        "print('{} banyaknya adalah'.format(key),len(index))\n"
      ]
    },
    {
      "cell_type": "code",
      "execution_count": null,
      "id": "e18e24a7",
      "metadata": {
        "id": "e18e24a7"
      },
      "outputs": [],
      "source": [
        "#materi bubble sort\n",
        "def minmax(arr):\n",
        "    for i in range(len(arr)):\n",
        "        for j in range(len(arr)-1):\n",
        "            if arr[j]>arr[j+1]:\n",
        "                arr[j],arr[j+1]=arr[j+1],arr[j]\n",
        "    return arr\n",
        "def maxmin(arr):\n",
        "    for i in range(len(arr)):\n",
        "        for j in range(len(arr)-1):\n",
        "            if arr[j]<arr[j+1]:\n",
        "                arr[j],arr[j+1]=arr[j+1],arr[j]\n",
        "    return arr\n",
        "def search(arr,key):\n",
        "    s=[]\n",
        "    for i in range(len(arr)):\n",
        "        if arr[i]==key:\n",
        "            s.append(i)\n",
        "    return s\n",
        "n=int(input('banyak masukkan : '))\n",
        "arr=[]\n",
        "for i in range (n):\n",
        "    arr.append(int(input(f'masukkan angka ke {i+1} : ')))\n",
        "    print(arr)\n",
        "minmax(arr)\n",
        "print(f'list angka kecil ke besar : {arr}')\n",
        "maxmin(arr)\n",
        "print(f'list angka besar ke kecil : {arr}')\n",
        "key=int(input('angka yang ingin dicari :'))\n",
        "index=search(arr,key)\n",
        "if index:\n",
        "    for i in index:\n",
        "        if arr[i]==key:\n",
        "            print('{} was found at index {}'.format(key,index))\n",
        "            break\n",
        "else:\n",
        "    print('{} was not found '.format(key,index))\n",
        "print('total number {} is '.format(key),len(index))\n"
      ]
    },
    {
      "cell_type": "code",
      "execution_count": null,
      "id": "ecc75bb9",
      "metadata": {
        "id": "ecc75bb9",
        "outputId": "ecb5ffec-0657-4ef0-a9f3-354ef6ff497c"
      },
      "outputs": [
        {
          "name": "stdout",
          "output_type": "stream",
          "text": [
            "masukkan angka11\n",
            "11 adalah bilangan prima \n"
          ]
        }
      ],
      "source": [
        "#materi bilangan prima\n",
        "n=int(input('masukkan angka : '))\n",
        "if (n==2 or n==3 or n==5 or n==7)or(n%2!=0 and n%3!=0 and n%5!=0 and n%7!=0):\n",
        "    print(f'{n} adalah bilangan prima ')\n",
        "else:\n",
        "    print(f'{n} bukan bilangan prima')"
      ]
    },
    {
      "cell_type": "code",
      "execution_count": null,
      "id": "b6c9b67d",
      "metadata": {
        "id": "b6c9b67d",
        "outputId": "77b07973-3357-4182-8f49-42c2063af755"
      },
      "outputs": [
        {
          "name": "stdout",
          "output_type": "stream",
          "text": [
            "batas maks angka : 23\n",
            "[1, 2, 3, 5, 7, 11, 13, 17, 19, 23]\n"
          ]
        }
      ],
      "source": [
        "#materi list bilangan prima\n",
        "n=int(input('batas maks angka : '))\n",
        "arr=[]\n",
        "for i in range (n+1):\n",
        "    if (i==2 or i==3 or i==5 or i==7)or(i%2!=0 and i%3!=0 and i%5!=0 and i%7!=0):\n",
        "        arr.append(i)\n",
        "print (arr)\n"
      ]
    },
    {
      "cell_type": "code",
      "execution_count": null,
      "id": "32cad103",
      "metadata": {
        "id": "32cad103",
        "outputId": "ecd55dee-7d46-423d-ecff-7a0eb7b5072a"
      },
      "outputs": [
        {
          "name": "stdout",
          "output_type": "stream",
          "text": [
            "masukkan hurufpanpan\n",
            "p 2\n",
            "a 2\n",
            "n 2\n"
          ]
        }
      ],
      "source": [
        "#count string\n",
        "n=input('masukkan huruf').lower()\n",
        "arr={}\n",
        "for i in n:\n",
        "    if not i.isalpha:\n",
        "        continue\n",
        "    elif i in arr:\n",
        "        arr[i]+=1\n",
        "    else:\n",
        "        arr[i]=1\n",
        "for i,j in (arr.items()):\n",
        "    print(i,j)"
      ]
    },
    {
      "cell_type": "code",
      "execution_count": null,
      "id": "a39a0a46",
      "metadata": {
        "id": "a39a0a46",
        "outputId": "24099159-b4ba-422a-e953-60a7fc53d22a"
      },
      "outputs": [
        {
          "name": "stdout",
          "output_type": "stream",
          "text": [
            "masukkan kata :pandi\n",
            "banyaknya huruf konsonan : 3\n"
          ]
        }
      ],
      "source": [
        "#menentukan huruf konsonan\n",
        "def kata(x):\n",
        "    hit=\"\"\n",
        "    kons=\"qwrtypsdfghjklzxcvbnm\"\n",
        "    for i in x:\n",
        "        if i in kons:\n",
        "            hit+=i\n",
        "    print('banyaknya huruf konsonan :',len(hit))\n",
        "x=input('masukkan kata :').lower()\n",
        "kata(x)"
      ]
    },
    {
      "cell_type": "code",
      "execution_count": null,
      "id": "3be3b4ad",
      "metadata": {
        "id": "3be3b4ad",
        "outputId": "888ab320-c034-492c-98ec-d47dd06c16fa"
      },
      "outputs": [
        {
          "name": "stdout",
          "output_type": "stream",
          "text": [
            "batas angka : 3\n",
            "[0, 1, 2, 3]\n",
            "total penjumlahan : 6\n"
          ]
        }
      ],
      "source": [
        "#penjumlahan n bilangan\n",
        "n=int(input('batas angka : '))\n",
        "s=[]\n",
        "for i in range(n+1):\n",
        "    s.append(i)\n",
        "print(s)\n",
        "print('total penjumlahan :',sum(s))\n",
        "    "
      ]
    },
    {
      "cell_type": "code",
      "execution_count": null,
      "id": "fda275dd",
      "metadata": {
        "id": "fda275dd",
        "outputId": "c352aba1-723d-4368-a9c8-6375cfa65b9f"
      },
      "outputs": [
        {
          "name": "stdout",
          "output_type": "stream",
          "text": [
            "100\n",
            "1 ratusan\n",
            "0 puluhan\n",
            "0 satuan\n"
          ]
        }
      ],
      "source": [
        "# Deskripsi Bilangan\n",
        "\n",
        "deskripsi = [\"satuan\", \"puluhan\", \"ratusan\", \"ribuan\", \"puluhribuan\", \"ratusribuan\"]\n",
        "\n",
        "n = input()\n",
        "deskripsiBilangan = deskripsi[0:len(n)]\n",
        "deskripsiBilangan.reverse()\n",
        "\n",
        "for x in range(len(n)):\n",
        "    print(f\"{n[x]} {deskripsiBilangan[x]}\")"
      ]
    },
    {
      "cell_type": "code",
      "execution_count": null,
      "id": "50243cfb",
      "metadata": {
        "id": "50243cfb"
      },
      "outputs": [],
      "source": [
        ""
      ]
    }
  ],
  "metadata": {
    "kernelspec": {
      "display_name": "Python 3 (ipykernel)",
      "language": "python",
      "name": "python3"
    },
    "language_info": {
      "codemirror_mode": {
        "name": "ipython",
        "version": 3
      },
      "file_extension": ".py",
      "mimetype": "text/x-python",
      "name": "python",
      "nbconvert_exporter": "python",
      "pygments_lexer": "ipython3",
      "version": "3.7.11"
    },
    "colab": {
      "name": "belajarv2.ipynb",
      "provenance": [],
      "include_colab_link": true
    }
  },
  "nbformat": 4,
  "nbformat_minor": 5
}